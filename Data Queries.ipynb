{
 "cells": [
  {
   "cell_type": "code",
   "execution_count": 1,
   "metadata": {
    "ExecuteTime": {
     "end_time": "2019-07-11T09:28:14.410543Z",
     "start_time": "2019-07-11T09:28:14.059545Z"
    }
   },
   "outputs": [],
   "source": [
    "import pandas as pd"
   ]
  },
  {
   "cell_type": "code",
   "execution_count": 2,
   "metadata": {
    "ExecuteTime": {
     "end_time": "2019-07-11T09:28:34.491275Z",
     "start_time": "2019-07-11T09:28:18.028649Z"
    }
   },
   "outputs": [
    {
     "name": "stderr",
     "output_type": "stream",
     "text": [
      "/home/theo/.local/lib/python3.7/site-packages/IPython/core/interactiveshell.py:2718: DtypeWarning: Columns (5,8,9,10,12,13,15,16,17) have mixed types. Specify dtype option on import or set low_memory=False.\n",
      "  interactivity=interactivity, compiler=compiler, result=result)\n"
     ]
    }
   ],
   "source": [
    "belgium = pd.read_csv('data/belgium_addresses.csv')"
   ]
  },
  {
   "cell_type": "markdown",
   "metadata": {},
   "source": [
    "## Most common streetname NL"
   ]
  },
  {
   "cell_type": "code",
   "execution_count": 71,
   "metadata": {
    "ExecuteTime": {
     "end_time": "2019-07-11T12:02:42.466325Z",
     "start_time": "2019-07-11T12:02:41.616291Z"
    }
   },
   "outputs": [],
   "source": [
    "streets = belgium[['streetname_nl', 'postcode']].drop_duplicates()"
   ]
  },
  {
   "cell_type": "code",
   "execution_count": 72,
   "metadata": {
    "ExecuteTime": {
     "end_time": "2019-07-11T12:02:46.011883Z",
     "start_time": "2019-07-11T12:02:45.929318Z"
    }
   },
   "outputs": [
    {
     "data": {
      "text/html": [
       "<div>\n",
       "<style scoped>\n",
       "    .dataframe tbody tr th:only-of-type {\n",
       "        vertical-align: middle;\n",
       "    }\n",
       "\n",
       "    .dataframe tbody tr th {\n",
       "        vertical-align: top;\n",
       "    }\n",
       "\n",
       "    .dataframe thead th {\n",
       "        text-align: right;\n",
       "    }\n",
       "</style>\n",
       "<table border=\"1\" class=\"dataframe\">\n",
       "  <thead>\n",
       "    <tr style=\"text-align: right;\">\n",
       "      <th></th>\n",
       "      <th>postcode</th>\n",
       "    </tr>\n",
       "    <tr>\n",
       "      <th>streetname_nl</th>\n",
       "      <th></th>\n",
       "    </tr>\n",
       "  </thead>\n",
       "  <tbody>\n",
       "    <tr>\n",
       "      <th>Kerkstraat</th>\n",
       "      <td>246</td>\n",
       "    </tr>\n",
       "    <tr>\n",
       "      <th>Molenstraat</th>\n",
       "      <td>244</td>\n",
       "    </tr>\n",
       "    <tr>\n",
       "      <th>Nieuwstraat</th>\n",
       "      <td>208</td>\n",
       "    </tr>\n",
       "    <tr>\n",
       "      <th>Schoolstraat</th>\n",
       "      <td>192</td>\n",
       "    </tr>\n",
       "    <tr>\n",
       "      <th>Veldstraat</th>\n",
       "      <td>184</td>\n",
       "    </tr>\n",
       "    <tr>\n",
       "      <th>Stationsstraat</th>\n",
       "      <td>175</td>\n",
       "    </tr>\n",
       "    <tr>\n",
       "      <th>Groenstraat</th>\n",
       "      <td>161</td>\n",
       "    </tr>\n",
       "    <tr>\n",
       "      <th>Bosstraat</th>\n",
       "      <td>146</td>\n",
       "    </tr>\n",
       "    <tr>\n",
       "      <th>Kloosterstraat</th>\n",
       "      <td>143</td>\n",
       "    </tr>\n",
       "    <tr>\n",
       "      <th>Kasteelstraat</th>\n",
       "      <td>133</td>\n",
       "    </tr>\n",
       "  </tbody>\n",
       "</table>\n",
       "</div>"
      ],
      "text/plain": [
       "                postcode\n",
       "streetname_nl           \n",
       "Kerkstraat           246\n",
       "Molenstraat          244\n",
       "Nieuwstraat          208\n",
       "Schoolstraat         192\n",
       "Veldstraat           184\n",
       "Stationsstraat       175\n",
       "Groenstraat          161\n",
       "Bosstraat            146\n",
       "Kloosterstraat       143\n",
       "Kasteelstraat        133"
      ]
     },
     "execution_count": 72,
     "metadata": {},
     "output_type": "execute_result"
    }
   ],
   "source": [
    "streets.groupby('streetname_nl').count().sort_values(by='postcode', ascending=False).head(10)"
   ]
  },
  {
   "cell_type": "markdown",
   "metadata": {},
   "source": [
    "## Uncommon streetnames NL"
   ]
  },
  {
   "cell_type": "code",
   "execution_count": 47,
   "metadata": {
    "ExecuteTime": {
     "end_time": "2019-07-11T11:26:19.370592Z",
     "start_time": "2019-07-11T11:26:19.256675Z"
    }
   },
   "outputs": [
    {
     "data": {
      "text/html": [
       "<div>\n",
       "<style scoped>\n",
       "    .dataframe tbody tr th:only-of-type {\n",
       "        vertical-align: middle;\n",
       "    }\n",
       "\n",
       "    .dataframe tbody tr th {\n",
       "        vertical-align: top;\n",
       "    }\n",
       "\n",
       "    .dataframe thead th {\n",
       "        text-align: right;\n",
       "    }\n",
       "</style>\n",
       "<table border=\"1\" class=\"dataframe\">\n",
       "  <thead>\n",
       "    <tr style=\"text-align: right;\">\n",
       "      <th></th>\n",
       "      <th>streetname_nl</th>\n",
       "      <th>postcode</th>\n",
       "    </tr>\n",
       "  </thead>\n",
       "  <tbody>\n",
       "    <tr>\n",
       "      <th>41438</th>\n",
       "      <td>Steentjes</td>\n",
       "      <td>1</td>\n",
       "    </tr>\n",
       "  </tbody>\n",
       "</table>\n",
       "</div>"
      ],
      "text/plain": [
       "      streetname_nl  postcode\n",
       "41438     Steentjes         1"
      ]
     },
     "execution_count": 47,
     "metadata": {},
     "output_type": "execute_result"
    }
   ],
   "source": [
    "temp = streets.groupby('streetname_nl').count().reset_index()\n",
    "temp[temp['streetname_nl'] == 'Steentjes']"
   ]
  },
  {
   "cell_type": "code",
   "execution_count": 48,
   "metadata": {
    "ExecuteTime": {
     "end_time": "2019-07-11T11:26:19.540917Z",
     "start_time": "2019-07-11T11:26:19.533174Z"
    }
   },
   "outputs": [
    {
     "name": "stderr",
     "output_type": "stream",
     "text": [
      "/usr/lib/python3.7/site-packages/ipykernel_launcher.py:1: FutureWarning: The signature of `Series.to_csv` was aligned to that of `DataFrame.to_csv`, and argument 'header' will change its default value from False to True: please pass an explicit value to suppress this warning.\n",
      "  \"\"\"Entry point for launching an IPython kernel.\n"
     ]
    }
   ],
   "source": [
    "temp.sample(100)['streetname_nl'].to_csv('uncommon.csv', index=False)"
   ]
  },
  {
   "cell_type": "markdown",
   "metadata": {},
   "source": [
    "## Most common streetname FR"
   ]
  },
  {
   "cell_type": "code",
   "execution_count": 22,
   "metadata": {
    "ExecuteTime": {
     "end_time": "2019-07-11T10:00:54.576975Z",
     "start_time": "2019-07-11T10:00:53.997093Z"
    }
   },
   "outputs": [],
   "source": [
    "streets = belgium[['streetname_fr', 'postcode']].drop_duplicates()"
   ]
  },
  {
   "cell_type": "code",
   "execution_count": 24,
   "metadata": {
    "ExecuteTime": {
     "end_time": "2019-07-11T10:01:17.275185Z",
     "start_time": "2019-07-11T10:01:17.181743Z"
    }
   },
   "outputs": [
    {
     "data": {
      "text/html": [
       "<div>\n",
       "<style scoped>\n",
       "    .dataframe tbody tr th:only-of-type {\n",
       "        vertical-align: middle;\n",
       "    }\n",
       "\n",
       "    .dataframe tbody tr th {\n",
       "        vertical-align: top;\n",
       "    }\n",
       "\n",
       "    .dataframe thead th {\n",
       "        text-align: right;\n",
       "    }\n",
       "</style>\n",
       "<table border=\"1\" class=\"dataframe\">\n",
       "  <thead>\n",
       "    <tr style=\"text-align: right;\">\n",
       "      <th></th>\n",
       "      <th>postcode</th>\n",
       "    </tr>\n",
       "    <tr>\n",
       "      <th>streetname_fr</th>\n",
       "      <th></th>\n",
       "    </tr>\n",
       "  </thead>\n",
       "  <tbody>\n",
       "    <tr>\n",
       "      <th>Rue de l'Eglise</th>\n",
       "      <td>188</td>\n",
       "    </tr>\n",
       "    <tr>\n",
       "      <th>Rue du Moulin</th>\n",
       "      <td>165</td>\n",
       "    </tr>\n",
       "    <tr>\n",
       "      <th>Rue de la Station</th>\n",
       "      <td>134</td>\n",
       "    </tr>\n",
       "    <tr>\n",
       "      <th>Rue des Ecoles</th>\n",
       "      <td>130</td>\n",
       "    </tr>\n",
       "    <tr>\n",
       "      <th>Rue de la Chapelle</th>\n",
       "      <td>115</td>\n",
       "    </tr>\n",
       "    <tr>\n",
       "      <th>Rue de la Fontaine</th>\n",
       "      <td>107</td>\n",
       "    </tr>\n",
       "    <tr>\n",
       "      <th>Rue du Centre</th>\n",
       "      <td>106</td>\n",
       "    </tr>\n",
       "    <tr>\n",
       "      <th>Rue de la Gare</th>\n",
       "      <td>101</td>\n",
       "    </tr>\n",
       "    <tr>\n",
       "      <th>Rue Haute</th>\n",
       "      <td>98</td>\n",
       "    </tr>\n",
       "    <tr>\n",
       "      <th>Rue du Château</th>\n",
       "      <td>98</td>\n",
       "    </tr>\n",
       "  </tbody>\n",
       "</table>\n",
       "</div>"
      ],
      "text/plain": [
       "                    postcode\n",
       "streetname_fr               \n",
       "Rue de l'Eglise          188\n",
       "Rue du Moulin            165\n",
       "Rue de la Station        134\n",
       "Rue des Ecoles           130\n",
       "Rue de la Chapelle       115\n",
       "Rue de la Fontaine       107\n",
       "Rue du Centre            106\n",
       "Rue de la Gare           101\n",
       "Rue Haute                 98\n",
       "Rue du Château            98"
      ]
     },
     "execution_count": 24,
     "metadata": {},
     "output_type": "execute_result"
    }
   ],
   "source": [
    "streets.groupby('streetname_fr').count().sort_values(by='postcode', ascending=False).head(10)"
   ]
  },
  {
   "cell_type": "markdown",
   "metadata": {},
   "source": [
    "## Uncommon streetnames FR"
   ]
  },
  {
   "cell_type": "code",
   "execution_count": 25,
   "metadata": {
    "ExecuteTime": {
     "end_time": "2019-07-11T10:01:59.234089Z",
     "start_time": "2019-07-11T10:01:59.088879Z"
    }
   },
   "outputs": [
    {
     "data": {
      "text/html": [
       "<div>\n",
       "<style scoped>\n",
       "    .dataframe tbody tr th:only-of-type {\n",
       "        vertical-align: middle;\n",
       "    }\n",
       "\n",
       "    .dataframe tbody tr th {\n",
       "        vertical-align: top;\n",
       "    }\n",
       "\n",
       "    .dataframe thead th {\n",
       "        text-align: right;\n",
       "    }\n",
       "</style>\n",
       "<table border=\"1\" class=\"dataframe\">\n",
       "  <thead>\n",
       "    <tr style=\"text-align: right;\">\n",
       "      <th></th>\n",
       "      <th>streetname_fr</th>\n",
       "      <th>postcode</th>\n",
       "    </tr>\n",
       "  </thead>\n",
       "  <tbody>\n",
       "  </tbody>\n",
       "</table>\n",
       "</div>"
      ],
      "text/plain": [
       "Empty DataFrame\n",
       "Columns: [streetname_fr, postcode]\n",
       "Index: []"
      ]
     },
     "execution_count": 25,
     "metadata": {},
     "output_type": "execute_result"
    }
   ],
   "source": [
    "temp = streets.groupby('streetname_fr').count().reset_index()"
   ]
  },
  {
   "cell_type": "code",
   "execution_count": 26,
   "metadata": {
    "ExecuteTime": {
     "end_time": "2019-07-11T10:02:30.257119Z",
     "start_time": "2019-07-11T10:02:30.235275Z"
    }
   },
   "outputs": [
    {
     "name": "stderr",
     "output_type": "stream",
     "text": [
      "/usr/lib/python3.7/site-packages/ipykernel_launcher.py:1: FutureWarning: The signature of `Series.to_csv` was aligned to that of `DataFrame.to_csv`, and argument 'header' will change its default value from False to True: please pass an explicit value to suppress this warning.\n",
      "  \"\"\"Entry point for launching an IPython kernel.\n"
     ]
    }
   ],
   "source": [
    "temp.sample(100)['streetname_fr'].to_csv('uncommon_fr.csv', index=False)"
   ]
  },
  {
   "cell_type": "markdown",
   "metadata": {},
   "source": [
    "## Longest street NL"
   ]
  },
  {
   "cell_type": "code",
   "execution_count": 51,
   "metadata": {
    "ExecuteTime": {
     "end_time": "2019-07-11T11:30:04.996186Z",
     "start_time": "2019-07-11T11:30:04.458599Z"
    }
   },
   "outputs": [
    {
     "data": {
      "text/plain": [
       "[(42, 'Albert en Marie-Louise Servais-Kinetstraat'),\n",
       " (38, 'Lodewijk Engelbertus van Arenbergplein'),\n",
       " (37, 'Volksvertegenwoordiger De Jaegerelaan'),\n",
       " (36, 'Jean de Brouchoven de Bergeyckstraat'),\n",
       " (36, 'Burgemeester Dr. Eugeen Roggemanlaan'),\n",
       " (35, \"Charles d'Orjo de Marchovelettelaan\"),\n",
       " (35, 'Burgemeester Stanislas De Rijcklaan'),\n",
       " (35, 'Alphonse en Maurice Hellinckxstraat'),\n",
       " (34, 'Zusters van Onze-Lieve-Vrouwstraat'),\n",
       " (34, 'Volksvertegenwoordiger Tahonstraat')]"
      ]
     },
     "execution_count": 51,
     "metadata": {},
     "output_type": "execute_result"
    }
   ],
   "source": [
    "long = list(map(lambda street: (len(street), street), belgium['streetname_nl'].dropna().unique()))\n",
    "long.sort(reverse=True)\n",
    "long[:10]"
   ]
  },
  {
   "cell_type": "markdown",
   "metadata": {
    "ExecuteTime": {
     "end_time": "2019-07-11T11:24:53.446565Z",
     "start_time": "2019-07-11T11:24:52.959038Z"
    }
   },
   "source": [
    "## Longest street FR"
   ]
  },
  {
   "cell_type": "code",
   "execution_count": 52,
   "metadata": {
    "ExecuteTime": {
     "end_time": "2019-07-11T11:31:06.082812Z",
     "start_time": "2019-07-11T11:31:05.722527Z"
    }
   },
   "outputs": [
    {
     "data": {
      "text/plain": [
       "[(57, 'Place des Combattants (Place Communale avant fusion 1978)'),\n",
       " (51, 'Rue des Rocailles (rue es Mulets avant fusion 1978)'),\n",
       " (49, 'Chemin du Circuit - Parc Résidentiel Saint-Joseph'),\n",
       " (47, 'Rue des Combattants - Résidence Les Coquelicots'),\n",
       " (46, 'Rue des Combattants - Résidence Les Primevères'),\n",
       " (46, 'Rue des Combattants - Résidence Les Jonquilles'),\n",
       " (46, \"Rue de la 7ème Division d'Infanterie Française\"),\n",
       " (45, \"Rue de l'Institut Notre-Dame de la Compassion\"),\n",
       " (45, 'Cité Hyacinthe Harmegnies - Rue des Peupliers'),\n",
       " (44, \"Rue du 127ème Régiment d'Infanterie Français\")]"
      ]
     },
     "execution_count": 52,
     "metadata": {},
     "output_type": "execute_result"
    }
   ],
   "source": [
    "long = list(map(lambda street: (len(street), street), belgium['streetname_fr'].dropna().unique()))\n",
    "long.sort(reverse=True)\n",
    "long[:10]"
   ]
  },
  {
   "cell_type": "markdown",
   "metadata": {},
   "source": [
    "## Most houses on street NL"
   ]
  },
  {
   "cell_type": "code",
   "execution_count": 53,
   "metadata": {
    "ExecuteTime": {
     "end_time": "2019-07-11T11:32:18.223426Z",
     "start_time": "2019-07-11T11:32:16.799319Z"
    }
   },
   "outputs": [],
   "source": [
    "streets = belgium[['streetname_nl', 'postcode', 'house_number']].drop_duplicates()"
   ]
  },
  {
   "cell_type": "code",
   "execution_count": 57,
   "metadata": {
    "ExecuteTime": {
     "end_time": "2019-07-11T11:34:46.663122Z",
     "start_time": "2019-07-11T11:34:45.921684Z"
    }
   },
   "outputs": [
    {
     "data": {
      "text/html": [
       "<div>\n",
       "<style scoped>\n",
       "    .dataframe tbody tr th:only-of-type {\n",
       "        vertical-align: middle;\n",
       "    }\n",
       "\n",
       "    .dataframe tbody tr th {\n",
       "        vertical-align: top;\n",
       "    }\n",
       "\n",
       "    .dataframe thead th {\n",
       "        text-align: right;\n",
       "    }\n",
       "</style>\n",
       "<table border=\"1\" class=\"dataframe\">\n",
       "  <thead>\n",
       "    <tr style=\"text-align: right;\">\n",
       "      <th></th>\n",
       "      <th></th>\n",
       "      <th>house_number</th>\n",
       "    </tr>\n",
       "    <tr>\n",
       "      <th>streetname_nl</th>\n",
       "      <th>postcode</th>\n",
       "      <th></th>\n",
       "    </tr>\n",
       "  </thead>\n",
       "  <tbody>\n",
       "    <tr>\n",
       "      <th>Bredabaan</th>\n",
       "      <th>2930</th>\n",
       "      <td>1046</td>\n",
       "    </tr>\n",
       "    <tr>\n",
       "      <th>Kortrijksesteenweg</th>\n",
       "      <th>9000</th>\n",
       "      <td>1013</td>\n",
       "    </tr>\n",
       "    <tr>\n",
       "      <th>Koningin Fabiolapark</th>\n",
       "      <th>9100</th>\n",
       "      <td>1000</td>\n",
       "    </tr>\n",
       "    <tr>\n",
       "      <th>Hundelgemsesteenweg</th>\n",
       "      <th>9820</th>\n",
       "      <td>997</td>\n",
       "    </tr>\n",
       "    <tr>\n",
       "      <th>Kikvorsstraat</th>\n",
       "      <th>9000</th>\n",
       "      <td>956</td>\n",
       "    </tr>\n",
       "    <tr>\n",
       "      <th>Zwijnaardsesteenweg</th>\n",
       "      <th>9000</th>\n",
       "      <td>936</td>\n",
       "    </tr>\n",
       "    <tr>\n",
       "      <th>Poseidonlaan</th>\n",
       "      <th>8420</th>\n",
       "      <td>920</td>\n",
       "    </tr>\n",
       "    <tr>\n",
       "      <th>Bergense Steenweg</th>\n",
       "      <th>1070</th>\n",
       "      <td>897</td>\n",
       "    </tr>\n",
       "    <tr>\n",
       "      <th>Alsembergsesteenweg</th>\n",
       "      <th>1180</th>\n",
       "      <td>884</td>\n",
       "    </tr>\n",
       "    <tr>\n",
       "      <th>Antwerpsesteenweg</th>\n",
       "      <th>9040</th>\n",
       "      <td>877</td>\n",
       "    </tr>\n",
       "  </tbody>\n",
       "</table>\n",
       "</div>"
      ],
      "text/plain": [
       "                               house_number\n",
       "streetname_nl        postcode              \n",
       "Bredabaan            2930              1046\n",
       "Kortrijksesteenweg   9000              1013\n",
       "Koningin Fabiolapark 9100              1000\n",
       "Hundelgemsesteenweg  9820               997\n",
       "Kikvorsstraat        9000               956\n",
       "Zwijnaardsesteenweg  9000               936\n",
       "Poseidonlaan         8420               920\n",
       "Bergense Steenweg    1070               897\n",
       "Alsembergsesteenweg  1180               884\n",
       "Antwerpsesteenweg    9040               877"
      ]
     },
     "execution_count": 57,
     "metadata": {},
     "output_type": "execute_result"
    }
   ],
   "source": [
    "streets.groupby(['streetname_nl', 'postcode']).count().sort_values(by='house_number', ascending=False).head(10)"
   ]
  },
  {
   "cell_type": "markdown",
   "metadata": {},
   "source": [
    "## Most houses on street FR"
   ]
  },
  {
   "cell_type": "code",
   "execution_count": 58,
   "metadata": {
    "ExecuteTime": {
     "end_time": "2019-07-11T11:39:17.753588Z",
     "start_time": "2019-07-11T11:39:16.274680Z"
    }
   },
   "outputs": [
    {
     "data": {
      "text/html": [
       "<div>\n",
       "<style scoped>\n",
       "    .dataframe tbody tr th:only-of-type {\n",
       "        vertical-align: middle;\n",
       "    }\n",
       "\n",
       "    .dataframe tbody tr th {\n",
       "        vertical-align: top;\n",
       "    }\n",
       "\n",
       "    .dataframe thead th {\n",
       "        text-align: right;\n",
       "    }\n",
       "</style>\n",
       "<table border=\"1\" class=\"dataframe\">\n",
       "  <thead>\n",
       "    <tr style=\"text-align: right;\">\n",
       "      <th></th>\n",
       "      <th></th>\n",
       "      <th>house_number</th>\n",
       "    </tr>\n",
       "    <tr>\n",
       "      <th>streetname_fr</th>\n",
       "      <th>postcode</th>\n",
       "      <th></th>\n",
       "    </tr>\n",
       "  </thead>\n",
       "  <tbody>\n",
       "    <tr>\n",
       "      <th>Chaussée de Mons</th>\n",
       "      <th>1070</th>\n",
       "      <td>897</td>\n",
       "    </tr>\n",
       "    <tr>\n",
       "      <th>Chaussée d'Alsemberg</th>\n",
       "      <th>1180</th>\n",
       "      <td>884</td>\n",
       "    </tr>\n",
       "    <tr>\n",
       "      <th>Chaussée de Wavre</th>\n",
       "      <th>1160</th>\n",
       "      <td>759</td>\n",
       "    </tr>\n",
       "    <tr>\n",
       "      <th>Chaussée de Waterloo</th>\n",
       "      <th>1180</th>\n",
       "      <td>673</td>\n",
       "    </tr>\n",
       "    <tr>\n",
       "      <th>Rue de Visé</th>\n",
       "      <th>4020</th>\n",
       "      <td>659</td>\n",
       "    </tr>\n",
       "    <tr>\n",
       "      <th>Avenue du Champ de Bataille</th>\n",
       "      <th>7012</th>\n",
       "      <td>637</td>\n",
       "    </tr>\n",
       "    <tr>\n",
       "      <th>Avenue Eugène Mascaux</th>\n",
       "      <th>6001</th>\n",
       "      <td>578</td>\n",
       "    </tr>\n",
       "    <tr>\n",
       "      <th>Chaussée de Bruxelles</th>\n",
       "      <th>1410</th>\n",
       "      <td>561</td>\n",
       "    </tr>\n",
       "    <tr>\n",
       "      <th>Rue Grégoire Wincqz</th>\n",
       "      <th>7060</th>\n",
       "      <td>559</td>\n",
       "    </tr>\n",
       "    <tr>\n",
       "      <th>Chaussée de Haecht</th>\n",
       "      <th>1030</th>\n",
       "      <td>553</td>\n",
       "    </tr>\n",
       "  </tbody>\n",
       "</table>\n",
       "</div>"
      ],
      "text/plain": [
       "                                      house_number\n",
       "streetname_fr               postcode              \n",
       "Chaussée de Mons            1070               897\n",
       "Chaussée d'Alsemberg        1180               884\n",
       "Chaussée de Wavre           1160               759\n",
       "Chaussée de Waterloo        1180               673\n",
       "Rue de Visé                 4020               659\n",
       "Avenue du Champ de Bataille 7012               637\n",
       "Avenue Eugène Mascaux       6001               578\n",
       "Chaussée de Bruxelles       1410               561\n",
       "Rue Grégoire Wincqz         7060               559\n",
       "Chaussée de Haecht          1030               553"
      ]
     },
     "execution_count": 58,
     "metadata": {},
     "output_type": "execute_result"
    }
   ],
   "source": [
    "streets = belgium[['streetname_fr', 'postcode', 'house_number']].drop_duplicates()\n",
    "streets.groupby(['streetname_fr', 'postcode']).count().sort_values(by='house_number', ascending=False).head(10)"
   ]
  },
  {
   "cell_type": "markdown",
   "metadata": {},
   "source": [
    "## Hoogste nummer"
   ]
  },
  {
   "cell_type": "code",
   "execution_count": 62,
   "metadata": {
    "ExecuteTime": {
     "end_time": "2019-07-11T11:45:36.331360Z",
     "start_time": "2019-07-11T11:45:36.325586Z"
    }
   },
   "outputs": [],
   "source": [
    "def isint(string):\n",
    "    try:\n",
    "        int(string)\n",
    "        return True\n",
    "    except:\n",
    "        return False"
   ]
  },
  {
   "cell_type": "code",
   "execution_count": 67,
   "metadata": {
    "ExecuteTime": {
     "end_time": "2019-07-11T11:48:59.943668Z",
     "start_time": "2019-07-11T11:48:56.671204Z"
    }
   },
   "outputs": [
    {
     "name": "stderr",
     "output_type": "stream",
     "text": [
      "/usr/lib/python3.7/site-packages/ipykernel_launcher.py:2: SettingWithCopyWarning: \n",
      "A value is trying to be set on a copy of a slice from a DataFrame.\n",
      "Try using .loc[row_indexer,col_indexer] = value instead\n",
      "\n",
      "See the caveats in the documentation: http://pandas.pydata.org/pandas-docs/stable/indexing.html#indexing-view-versus-copy\n",
      "  \n"
     ]
    }
   ],
   "source": [
    "clean = belgium[belgium['house_number'].apply(isint)]\n",
    "clean['house_number'] = clean['house_number'].astype(int)"
   ]
  },
  {
   "cell_type": "code",
   "execution_count": 68,
   "metadata": {
    "ExecuteTime": {
     "end_time": "2019-07-11T11:49:05.033881Z",
     "start_time": "2019-07-11T11:49:04.405570Z"
    }
   },
   "outputs": [
    {
     "data": {
      "text/html": [
       "<div>\n",
       "<style scoped>\n",
       "    .dataframe tbody tr th:only-of-type {\n",
       "        vertical-align: middle;\n",
       "    }\n",
       "\n",
       "    .dataframe tbody tr th {\n",
       "        vertical-align: top;\n",
       "    }\n",
       "\n",
       "    .dataframe thead th {\n",
       "        text-align: right;\n",
       "    }\n",
       "</style>\n",
       "<table border=\"1\" class=\"dataframe\">\n",
       "  <thead>\n",
       "    <tr style=\"text-align: right;\">\n",
       "      <th></th>\n",
       "      <th>EPSG:31370_x</th>\n",
       "      <th>EPSG:31370_y</th>\n",
       "      <th>EPSG:4326_x</th>\n",
       "      <th>EPSG:4326_y</th>\n",
       "      <th>address_id</th>\n",
       "      <th>box_number</th>\n",
       "      <th>house_number</th>\n",
       "      <th>municipality_id</th>\n",
       "      <th>municipality_name_de</th>\n",
       "      <th>municipality_name_fr</th>\n",
       "      <th>municipality_name_nl</th>\n",
       "      <th>postcode</th>\n",
       "      <th>postname_fr</th>\n",
       "      <th>postname_nl</th>\n",
       "      <th>street_id</th>\n",
       "      <th>streetname_de</th>\n",
       "      <th>streetname_fr</th>\n",
       "      <th>streetname_nl</th>\n",
       "    </tr>\n",
       "  </thead>\n",
       "  <tbody>\n",
       "    <tr>\n",
       "      <th>2751080</th>\n",
       "      <td>168374.04</td>\n",
       "      <td>193980.31</td>\n",
       "      <td>51.055683</td>\n",
       "      <td>4.63082</td>\n",
       "      <td>3660276</td>\n",
       "      <td>NaN</td>\n",
       "      <td>4691001</td>\n",
       "      <td>12029</td>\n",
       "      <td>NaN</td>\n",
       "      <td>NaN</td>\n",
       "      <td>Putte</td>\n",
       "      <td>2580</td>\n",
       "      <td>NaN</td>\n",
       "      <td>Beerzel/Putte</td>\n",
       "      <td>11534</td>\n",
       "      <td>NaN</td>\n",
       "      <td>NaN</td>\n",
       "      <td>Mechelbaan</td>\n",
       "    </tr>\n",
       "  </tbody>\n",
       "</table>\n",
       "</div>"
      ],
      "text/plain": [
       "         EPSG:31370_x  EPSG:31370_y  EPSG:4326_x  EPSG:4326_y  address_id  \\\n",
       "2751080     168374.04     193980.31    51.055683      4.63082     3660276   \n",
       "\n",
       "        box_number  house_number  municipality_id municipality_name_de  \\\n",
       "2751080        NaN       4691001            12029                  NaN   \n",
       "\n",
       "        municipality_name_fr municipality_name_nl  postcode postname_fr  \\\n",
       "2751080                  NaN                Putte      2580         NaN   \n",
       "\n",
       "           postname_nl  street_id streetname_de streetname_fr streetname_nl  \n",
       "2751080  Beerzel/Putte      11534           NaN           NaN    Mechelbaan  "
      ]
     },
     "execution_count": 68,
     "metadata": {},
     "output_type": "execute_result"
    }
   ],
   "source": [
    "clean[clean['house_number'] == max(clean['house_number'])]"
   ]
  },
  {
   "cell_type": "code",
   "execution_count": null,
   "metadata": {
    "ExecuteTime": {
     "end_time": "2019-07-11T11:54:44.367138Z",
     "start_time": "2019-07-11T11:54:44.170873Z"
    }
   },
   "outputs": [],
   "source": []
  },
  {
   "cell_type": "code",
   "execution_count": null,
   "metadata": {},
   "outputs": [],
   "source": []
  }
 ],
 "metadata": {
  "kernelspec": {
   "display_name": "Python 3",
   "language": "python",
   "name": "python3"
  },
  "toc": {
   "base_numbering": 1,
   "nav_menu": {},
   "number_sections": true,
   "sideBar": true,
   "skip_h1_title": false,
   "title_cell": "Table of Contents",
   "title_sidebar": "Contents",
   "toc_cell": false,
   "toc_position": {},
   "toc_section_display": true,
   "toc_window_display": false
  },
  "varInspector": {
   "cols": {
    "lenName": 16,
    "lenType": 16,
    "lenVar": 40
   },
   "kernels_config": {
    "python": {
     "delete_cmd_postfix": "",
     "delete_cmd_prefix": "del ",
     "library": "var_list.py",
     "varRefreshCmd": "print(var_dic_list())"
    },
    "r": {
     "delete_cmd_postfix": ") ",
     "delete_cmd_prefix": "rm(",
     "library": "var_list.r",
     "varRefreshCmd": "cat(var_dic_list()) "
    }
   },
   "types_to_exclude": [
    "module",
    "function",
    "builtin_function_or_method",
    "instance",
    "_Feature"
   ],
   "window_display": false
  }
 },
 "nbformat": 4,
 "nbformat_minor": 2
}
